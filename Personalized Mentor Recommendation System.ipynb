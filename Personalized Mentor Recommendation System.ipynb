{
 "cells": [
  {
   "cell_type": "code",
   "execution_count": 3,
   "id": "4e9c7568-26e9-4613-ab1e-e4943e46098c",
   "metadata": {},
   "outputs": [
    {
     "name": "stdout",
     "output_type": "stream",
     "text": [
      "Mentors DataFrame:\n",
      "  mentor_id               name           subjects target_college  \\\n",
      "0      M001       Samir Shaikh     Legal Aptitude          NLSIU   \n",
      "1      M002  Hossainur Rahaman            English         NALSAR   \n",
      "2      M003  Agnibha Chowdhury       GK Reasoning           NUJS   \n",
      "3      M004       Sumit Thakur  Logical Reasoning      NLU Delhi   \n",
      "\n",
      "     prep_level learning_style  \n",
      "0      Advanced         Visual  \n",
      "1  Intermediate        Reading  \n",
      "2      Advanced       Auditory  \n",
      "3      Beginner    Kinesthetic  \n"
     ]
    }
   ],
   "source": [
    "# Step 1: Import Required Libraries\n",
    "import pandas as pd\n",
    "from sklearn.feature_extraction.text import CountVectorizer\n",
    "from sklearn.metrics.pairwise import cosine_similarity\n",
    "\n",
    "# Step 2: Create Mock Mentor Data\n",
    "\n",
    "mentors_df = pd.DataFrame({\n",
    "    'mentor_id': ['M001', 'M002', 'M003', 'M004'],\n",
    "    'name': ['Samir Shaikh', 'Hossainur Rahaman', 'Agnibha Chowdhury', 'Sumit Thakur'],\n",
    "    'subjects': ['Legal Aptitude', 'English', 'GK Reasoning', 'Logical Reasoning'],\n",
    "    'target_college': ['NLSIU', 'NALSAR', 'NUJS', 'NLU Delhi'],\n",
    "    'prep_level': ['Advanced', 'Intermediate', 'Advanced', 'Beginner'],\n",
    "    'learning_style': ['Visual', 'Reading', 'Auditory', 'Kinesthetic']\n",
    "})\n",
    "\n",
    "print(\"Mentors DataFrame:\")\n",
    "print(mentors_df.head())"
   ]
  },
  {
   "cell_type": "code",
   "execution_count": 4,
   "id": "10ee42cf-ff3d-4e0f-8bb0-59908b778f1f",
   "metadata": {},
   "outputs": [
    {
     "name": "stdout",
     "output_type": "stream",
     "text": [
      "Aspirant Profile DataFrame:\n",
      "  preferred_subjects target_college prep_level learning_style\n",
      "0       GK Reasoning           NUJS   Advanced       Auditory\n"
     ]
    }
   ],
   "source": [
    "# Step 3: Create a Sample Aspirant Profile\n",
    "\n",
    "aspirant_profile = {\n",
    "    'preferred_subjects': 'GK Reasoning',\n",
    "    'target_college': 'NUJS',\n",
    "    'prep_level': 'Advanced',\n",
    "    'learning_style': 'Auditory'\n",
    "}\n",
    "\n",
    "aspirant_df = pd.DataFrame([aspirant_profile])\n",
    "\n",
    "print(\"Aspirant Profile DataFrame:\")\n",
    "print(aspirant_df.head())"
   ]
  },
  {
   "cell_type": "code",
   "execution_count": 5,
   "id": "fd5c708b-302a-4cfa-95f9-740515150bfb",
   "metadata": {},
   "outputs": [
    {
     "name": "stdout",
     "output_type": "stream",
     "text": [
      "Mentors Combined Features:\n",
      "                name                                          combined\n",
      "0       Samir Shaikh              Legal Aptitude NLSIU Advanced Visual\n",
      "1  Hossainur Rahaman               English NALSAR Intermediate Reading\n",
      "2  Agnibha Chowdhury               GK Reasoning NUJS Advanced Auditory\n",
      "3       Sumit Thakur  Logical Reasoning NLU Delhi Beginner Kinesthetic\n",
      "\n",
      "Aspirant Combined Features:\n",
      "                              combined\n",
      "0  GK Reasoning NUJS Advanced Auditory\n"
     ]
    }
   ],
   "source": [
    "# Step 4: Combine Relevant Features for Matching\n",
    "\n",
    "mentors_df['combined'] = mentors_df['subjects'] + ' ' + mentors_df['target_college'] + ' ' + mentors_df['prep_level'] + ' ' + mentors_df['learning_style']\n",
    "aspirant_df['combined'] = aspirant_df['preferred_subjects'] + ' ' + aspirant_df['target_college'] + ' ' + aspirant_df['prep_level'] + ' ' + aspirant_df['learning_style']\n",
    "\n",
    "print(\"Mentors Combined Features:\")\n",
    "print(mentors_df[['name', 'combined']].head())\n",
    "\n",
    "print(\"\\nAspirant Combined Features:\")\n",
    "print(aspirant_df[['combined']].head())"
   ]
  },
  {
   "cell_type": "code",
   "execution_count": 6,
   "id": "2113573d-25e4-4d38-89b7-a0699d066a44",
   "metadata": {},
   "outputs": [
    {
     "name": "stdout",
     "output_type": "stream",
     "text": [
      "Vector Matrix Shape:\n",
      "(5, 18)\n"
     ]
    }
   ],
   "source": [
    "# Step 5: Vectorize Combined Texts\n",
    "\n",
    "all_profiles = mentors_df['combined'].tolist() + aspirant_df['combined'].tolist()\n",
    "\n",
    "vectorizer = CountVectorizer()\n",
    "vector_matrix = vectorizer.fit_transform(all_profiles)\n",
    "\n",
    "print(\"Vector Matrix Shape:\")\n",
    "print(vector_matrix.shape)"
   ]
  },
  {
   "cell_type": "code",
   "execution_count": 7,
   "id": "aba55a9a-a8ab-4864-a4a5-7bb0914e6022",
   "metadata": {},
   "outputs": [
    {
     "name": "stdout",
     "output_type": "stream",
     "text": [
      "Mentors with Similarity Scores:\n",
      "                name  similarity_score\n",
      "0       Samir Shaikh          0.200000\n",
      "1  Hossainur Rahaman          0.000000\n",
      "2  Agnibha Chowdhury          1.000000\n",
      "3       Sumit Thakur          0.182574\n"
     ]
    }
   ],
   "source": [
    "# Step 6: Calculate Cosine Similarity Between Aspirant and Mentors\n",
    "\n",
    "similarity_scores = cosine_similarity(vector_matrix[-1], vector_matrix[:-1])\n",
    "similarity_scores = similarity_scores.flatten()\n",
    "\n",
    "mentors_df['similarity_score'] = similarity_scores\n",
    "\n",
    "print(\"Mentors with Similarity Scores:\")\n",
    "print(mentors_df[['name', 'similarity_score']].head())"
   ]
  },
  {
   "cell_type": "code",
   "execution_count": 8,
   "id": "25a35f0e-05e6-4f08-b79b-d5dee831d69d",
   "metadata": {},
   "outputs": [
    {
     "name": "stdout",
     "output_type": "stream",
     "text": [
      "🎯 Top 3 Mentor Recommendations:\n",
      "                name           subjects target_college  similarity_score\n",
      "2  Agnibha Chowdhury       GK Reasoning           NUJS          1.000000\n",
      "0       Samir Shaikh     Legal Aptitude          NLSIU          0.200000\n",
      "3       Sumit Thakur  Logical Reasoning      NLU Delhi          0.182574\n"
     ]
    }
   ],
   "source": [
    "# Step 7: Recommend Top 3 Mentors\n",
    "\n",
    "top_mentors = mentors_df.sort_values(by='similarity_score', ascending=False).head(3)\n",
    "\n",
    "print(\"🎯 Top 3 Mentor Recommendations:\")\n",
    "print(top_mentors[['name', 'subjects', 'target_college', 'similarity_score']])"
   ]
  },
  {
   "cell_type": "markdown",
   "id": "f110b799",
   "metadata": {},
   "source": [
    "How the System Can Improve Over Time\n",
    "\n",
    "- Add a feedback column like `user_rating` to track session feedback\n",
    "- Recalculate final recommendation score as a weighted average of:\n",
    "    - Content similarity\n",
    "    - User feedback\n",
    "- Collect more data over time (e.g., success rates, chat frequency, etc.)\n",
    "- Gradually incorporate NLP-based or GPT-based profiling"
   ]
  },
  {
   "cell_type": "code",
   "execution_count": null,
   "id": "e965f846-2b82-450f-a03e-78c2e75f769b",
   "metadata": {},
   "outputs": [],
   "source": []
  }
 ],
 "metadata": {
  "kernelspec": {
   "display_name": "anaconda-2024.02-py310",
   "language": "python",
   "name": "conda-env-anaconda-2024.02-py310-py"
  },
  "language_info": {
   "codemirror_mode": {
    "name": "ipython",
    "version": 3
   },
   "file_extension": ".py",
   "mimetype": "text/x-python",
   "name": "python",
   "nbconvert_exporter": "python",
   "pygments_lexer": "ipython3",
   "version": "3.10.14"
  }
 },
 "nbformat": 4,
 "nbformat_minor": 5
}
